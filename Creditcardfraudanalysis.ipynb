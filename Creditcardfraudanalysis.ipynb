{
  "nbformat": 4,
  "nbformat_minor": 0,
  "metadata": {
    "colab": {
      "provenance": [],
      "mount_file_id": "1cfEZlORTHR9lz6WCZ0k-ADrfzptg-xha",
      "authorship_tag": "ABX9TyMb2vUSrDit0FgJ7WNLaMNU",
      "include_colab_link": true
    },
    "kernelspec": {
      "name": "python3",
      "display_name": "Python 3"
    },
    "language_info": {
      "name": "python"
    }
  },
  "cells": [
    {
      "cell_type": "markdown",
      "metadata": {
        "id": "view-in-github",
        "colab_type": "text"
      },
      "source": [
        "<a href=\"https://colab.research.google.com/github/MANIKANDAN2112/Creditcardfraud_analysis/blob/main/Creditcardfraudanalysis.ipynb\" target=\"_parent\"><img src=\"https://colab.research.google.com/assets/colab-badge.svg\" alt=\"Open In Colab\"/></a>"
      ]
    },
    {
      "cell_type": "code",
      "execution_count": 25,
      "metadata": {
        "id": "4cv5Q-qgtxnz"
      },
      "outputs": [],
      "source": [
        "import numpy as np\n",
        "import pandas as pd\n",
        "import seaborn as sns\n",
        "import matplotlib.pyplot as plt\n",
        "from sklearn.model_selection import train_test_split,GridSearchCV\n",
        "from sklearn.linear_model import LogisticRegression\n",
        "from sklearn.ensemble import RandomForestClassifier,GradientBoostingClassifier\n",
        "from sklearn.metrics import accuracy_score\n",
        "from sklearn.svm import SVC\n",
        "from sklearn.preprocessing import StandardScaler  # Import StandardScaler\n",
        "\n",
        "\n"
      ]
    },
    {
      "cell_type": "code",
      "source": [
        "from google.colab import drive\n",
        "from google.colab import files\n",
        "\n",
        "# Mount Google Drive\n",
        "drive.mount('/content/drive')\n"
      ],
      "metadata": {
        "colab": {
          "base_uri": "https://localhost:8080/"
        },
        "id": "didkaAsddUrZ",
        "outputId": "09dede31-fec3-4a27-9899-f74db4208e22"
      },
      "execution_count": 2,
      "outputs": [
        {
          "output_type": "stream",
          "name": "stdout",
          "text": [
            "Drive already mounted at /content/drive; to attempt to forcibly remount, call drive.mount(\"/content/drive\", force_remount=True).\n"
          ]
        }
      ]
    },
    {
      "cell_type": "code",
      "source": [
        "#Load the dataset\n",
        "credit_card_data = pd.read_csv('/content/drive/MyDrive/Data sets for project/credit_data.csv')\n"
      ],
      "metadata": {
        "id": "SXr1JPRHTz7t"
      },
      "execution_count": 3,
      "outputs": []
    },
    {
      "cell_type": "code",
      "source": [
        "# Display first 5 rows of the dataset\n",
        "print(credit_card_data.head())"
      ],
      "metadata": {
        "colab": {
          "base_uri": "https://localhost:8080/"
        },
        "id": "uMng1ZC2aQtm",
        "outputId": "2d860bec-3948-4a6c-831f-085dff74ae6b"
      },
      "execution_count": 6,
      "outputs": [
        {
          "output_type": "stream",
          "name": "stdout",
          "text": [
            "   Time        V1        V2        V3        V4        V5        V6        V7  \\\n",
            "0   0.0 -1.359807 -0.072781  2.536347  1.378155 -0.338321  0.462388  0.239599   \n",
            "1   0.0  1.191857  0.266151  0.166480  0.448154  0.060018 -0.082361 -0.078803   \n",
            "2   1.0 -1.358354 -1.340163  1.773209  0.379780 -0.503198  1.800499  0.791461   \n",
            "3   1.0 -0.966272 -0.185226  1.792993 -0.863291 -0.010309  1.247203  0.237609   \n",
            "4   2.0 -1.158233  0.877737  1.548718  0.403034 -0.407193  0.095921  0.592941   \n",
            "\n",
            "         V8        V9  ...       V21       V22       V23       V24       V25  \\\n",
            "0  0.098698  0.363787  ... -0.018307  0.277838 -0.110474  0.066928  0.128539   \n",
            "1  0.085102 -0.255425  ... -0.225775 -0.638672  0.101288 -0.339846  0.167170   \n",
            "2  0.247676 -1.514654  ...  0.247998  0.771679  0.909412 -0.689281 -0.327642   \n",
            "3  0.377436 -1.387024  ... -0.108300  0.005274 -0.190321 -1.175575  0.647376   \n",
            "4 -0.270533  0.817739  ... -0.009431  0.798278 -0.137458  0.141267 -0.206010   \n",
            "\n",
            "        V26       V27       V28  Amount  Class  \n",
            "0 -0.189115  0.133558 -0.021053  149.62      0  \n",
            "1  0.125895 -0.008983  0.014724    2.69      0  \n",
            "2 -0.139097 -0.055353 -0.059752  378.66      0  \n",
            "3 -0.221929  0.062723  0.061458  123.50      0  \n",
            "4  0.502292  0.219422  0.215153   69.99      0  \n",
            "\n",
            "[5 rows x 31 columns]\n"
          ]
        }
      ]
    },
    {
      "cell_type": "code",
      "source": [
        "\n",
        "# Dataset information\n",
        "print(credit_card_data.info())\n"
      ],
      "metadata": {
        "colab": {
          "base_uri": "https://localhost:8080/"
        },
        "id": "7nd9uy2kap3j",
        "outputId": "466042a2-dfcc-4841-92dc-d52fe5d9ad38"
      },
      "execution_count": 7,
      "outputs": [
        {
          "output_type": "stream",
          "name": "stdout",
          "text": [
            "<class 'pandas.core.frame.DataFrame'>\n",
            "RangeIndex: 284807 entries, 0 to 284806\n",
            "Data columns (total 31 columns):\n",
            " #   Column  Non-Null Count   Dtype  \n",
            "---  ------  --------------   -----  \n",
            " 0   Time    284807 non-null  float64\n",
            " 1   V1      284807 non-null  float64\n",
            " 2   V2      284807 non-null  float64\n",
            " 3   V3      284807 non-null  float64\n",
            " 4   V4      284807 non-null  float64\n",
            " 5   V5      284807 non-null  float64\n",
            " 6   V6      284807 non-null  float64\n",
            " 7   V7      284807 non-null  float64\n",
            " 8   V8      284807 non-null  float64\n",
            " 9   V9      284807 non-null  float64\n",
            " 10  V10     284807 non-null  float64\n",
            " 11  V11     284807 non-null  float64\n",
            " 12  V12     284807 non-null  float64\n",
            " 13  V13     284807 non-null  float64\n",
            " 14  V14     284807 non-null  float64\n",
            " 15  V15     284807 non-null  float64\n",
            " 16  V16     284807 non-null  float64\n",
            " 17  V17     284807 non-null  float64\n",
            " 18  V18     284807 non-null  float64\n",
            " 19  V19     284807 non-null  float64\n",
            " 20  V20     284807 non-null  float64\n",
            " 21  V21     284807 non-null  float64\n",
            " 22  V22     284807 non-null  float64\n",
            " 23  V23     284807 non-null  float64\n",
            " 24  V24     284807 non-null  float64\n",
            " 25  V25     284807 non-null  float64\n",
            " 26  V26     284807 non-null  float64\n",
            " 27  V27     284807 non-null  float64\n",
            " 28  V28     284807 non-null  float64\n",
            " 29  Amount  284807 non-null  float64\n",
            " 30  Class   284807 non-null  int64  \n",
            "dtypes: float64(30), int64(1)\n",
            "memory usage: 67.4 MB\n",
            "None\n"
          ]
        }
      ]
    },
    {
      "cell_type": "code",
      "source": [
        "# Distribution of legit transactions & fraudulent transactions\n",
        "class_counts = credit_card_data['Class'].value_counts()\n",
        "labels = ['Legit (0)', 'Fraud (1)']\n",
        "colors = ['#1f77b4', '#ff7f0e']\n",
        "\n",
        "plt.figure(figsize=(8, 6))\n",
        "plt.pie(class_counts, labels=labels, colors=colors, autopct='%1.1f%%', startangle=140)\n",
        "plt.title('Class Distribution')\n",
        "plt.axis('equal')  # Equal aspect ratio ensures that pie is drawn as a circle.\n",
        "plt.show()\n"
      ],
      "metadata": {
        "colab": {
          "base_uri": "https://localhost:8080/",
          "height": 521
        },
        "id": "rTW-NTXeas-v",
        "outputId": "b423423c-2876-4117-b016-99510d0ec034"
      },
      "execution_count": 26,
      "outputs": [
        {
          "output_type": "display_data",
          "data": {
            "text/plain": [
              "<Figure size 800x600 with 1 Axes>"
            ],
            "image/png": "[encoded data removed]"
          },
          "metadata": {}
        }
      ]
    },
    {
      "cell_type": "code",
      "source": [
        "# Statistical measures of the data\n",
        "print(\"Legit Transactions Statistics:\")\n",
        "print(credit_card_data[credit_card_data['Class'] == 0]['Amount'].describe())\n",
        "print(\"\\nFraudulent Transactions Statistics:\")\n",
        "print(credit_card_data[credit_card_data['Class'] == 1]['Amount'].describe())\n"
      ],
      "metadata": {
        "colab": {
          "base_uri": "https://localhost:8080/"
        },
        "id": "LkrnZyZlcKYo",
        "outputId": "6255be93-83d2-480d-e23c-be06f64ac0d4"
      },
      "execution_count": 9,
      "outputs": [
        {
          "output_type": "stream",
          "name": "stdout",
          "text": [
            "Legit Transactions Statistics:\n",
            "count    284315.000000\n",
            "mean         88.291022\n",
            "std         250.105092\n",
            "min           0.000000\n",
            "25%           5.650000\n",
            "50%          22.000000\n",
            "75%          77.050000\n",
            "max       25691.160000\n",
            "Name: Amount, dtype: float64\n",
            "\n",
            "Fraudulent Transactions Statistics:\n",
            "count     492.000000\n",
            "mean      122.211321\n",
            "std       256.683288\n",
            "min         0.000000\n",
            "25%         1.000000\n",
            "50%         9.250000\n",
            "75%       105.890000\n",
            "max      2125.870000\n",
            "Name: Amount, dtype: float64\n"
          ]
        }
      ]
    },
    {
      "cell_type": "code",
      "source": [
        "# Compare the values for both transactions\n",
        "print(\"\\nMean of different features for each class:\")\n",
        "print(credit_card_data.groupby('Class').mean())\n"
      ],
      "metadata": {
        "colab": {
          "base_uri": "https://localhost:8080/"
        },
        "id": "xzq8FPwLcTU6",
        "outputId": "68de6264-b6ff-4870-df3f-5bd97cdc58bf"
      },
      "execution_count": 10,
      "outputs": [
        {
          "output_type": "stream",
          "name": "stdout",
          "text": [
            "\n",
            "Mean of different features for each class:\n",
            "               Time        V1        V2        V3        V4        V5  \\\n",
            "Class                                                                   \n",
            "0      94838.202258  0.008258 -0.006271  0.012171 -0.007860  0.005453   \n",
            "1      80746.806911 -4.771948  3.623778 -7.033281  4.542029 -3.151225   \n",
            "\n",
            "             V6        V7        V8        V9  ...       V20       V21  \\\n",
            "Class                                          ...                       \n",
            "0      0.002419  0.009637 -0.000987  0.004467  ... -0.000644 -0.001235   \n",
            "1     -1.397737 -5.568731  0.570636 -2.581123  ...  0.372319  0.713588   \n",
            "\n",
            "            V22       V23       V24       V25       V26       V27       V28  \\\n",
            "Class                                                                         \n",
            "0     -0.000024  0.000070  0.000182 -0.000072 -0.000089 -0.000295 -0.000131   \n",
            "1      0.014049 -0.040308 -0.105130  0.041449  0.051648  0.170575  0.075667   \n",
            "\n",
            "           Amount  \n",
            "Class              \n",
            "0       88.291022  \n",
            "1      122.211321  \n",
            "\n",
            "[2 rows x 30 columns]\n"
          ]
        }
      ]
    },
    {
      "cell_type": "code",
      "source": [
        "# Sample equal number of legit transactions\n",
        "legit_sample = credit_card_data[credit_card_data['Class'] == 0].sample(n=492, random_state=42)\n"
      ],
      "metadata": {
        "id": "SE25VpTfcY07"
      },
      "execution_count": 11,
      "outputs": []
    },
    {
      "cell_type": "code",
      "source": [
        "# Concatenate sampled legit transactions with fraudulent transactions\n",
        "new_dataset = pd.concat([legit_sample, credit_card_data[credit_card_data['Class'] == 1]], axis=0)\n"
      ],
      "metadata": {
        "id": "fk9lI1LOccU_"
      },
      "execution_count": 13,
      "outputs": []
    },
    {
      "cell_type": "code",
      "source": [
        "# Check the class distribution in the new dataset\n",
        "colors = ['#1f77b4', '#ff7f0e']\n",
        "sns.countplot(x='Class', data=new_dataset,palette=colors)\n",
        "plt.title('Class Distribution in New Dataset')\n",
        "plt.xlabel('Class (0: Legit, 1: Fraud)')\n",
        "plt.ylabel('Count')\n",
        "plt.show()\n"
      ],
      "metadata": {
        "colab": {
          "base_uri": "https://localhost:8080/",
          "height": 579
        },
        "id": "yjCj4jCLchcS",
        "outputId": "c32abac5-dc19-403b-9c99-4a6a3e82e1f5"
      },
      "execution_count": 27,
      "outputs": [
        {
          "output_type": "stream",
          "name": "stderr",
          "text": [
            "<ipython-input-27-38bd61d99906>:3: FutureWarning: \n",
            "\n",
            "Passing `palette` without assigning `hue` is deprecated and will be removed in v0.14.0. Assign the `x` variable to `hue` and set `legend=False` for the same effect.\n",
            "\n",
            "  sns.countplot(x='Class', data=new_dataset,palette=colors)\n"
          ]
        },
        {
          "output_type": "display_data",
          "data": {
            "text/plain": [
              "<Figure size 640x480 with 1 Axes>"
            ],
            "image/png": "[encoded data removed]"
          },
          "metadata": {}
        }
      ]
    },
    {
      "cell_type": "code",
      "source": [
        "# Separate features and target variable\n",
        "X = new_dataset.drop(columns='Class', axis=1)\n",
        "Y = new_dataset['Class']\n",
        "\n"
      ],
      "metadata": {
        "id": "DG-HBBn-cnCZ"
      },
      "execution_count": 15,
      "outputs": []
    },
    {
      "cell_type": "code",
      "source": [
        "# Scale the data using StandardScaler\n",
        "scaler = StandardScaler()\n",
        "X_scaled = scaler.fit_transform(X)\n"
      ],
      "metadata": {
        "id": "0W6tclRUukIe"
      },
      "execution_count": 28,
      "outputs": []
    },
    {
      "cell_type": "code",
      "source": [
        "# Train-test split\n",
        "X_train, X_test, Y_train, Y_test = train_test_split(X, Y, test_size=0.2, stratify=Y, random_state=2)\n"
      ],
      "metadata": {
        "id": "eONNIx9kcoy0"
      },
      "execution_count": 29,
      "outputs": []
    },
    {
      "cell_type": "code",
      "source": [
        "# Initialize models\n",
        "models = {\n",
        "    'Logistic Regression': LogisticRegression(max_iter=1000),  # Increase max_iter\n",
        "    'Random Forest': RandomForestClassifier(),\n",
        "    'Gradient Boosting': GradientBoostingClassifier(),\n",
        "    'SVM': SVC()\n",
        "}\n"
      ],
      "metadata": {
        "id": "-z4CRgyzcrUz"
      },
      "execution_count": 30,
      "outputs": []
    },
    {
      "cell_type": "code",
      "source": [
        "#Model optimization using GridSearchCV\n",
        "param_grid = {\n",
        "    'Logistic Regression': {'C': [0.001, 0.01, 0.1, 1, 10, 100]},\n",
        "    'Random Forest': {'n_estimators': [50, 100, 200], 'max_depth': [3, 5, 7]},\n",
        "    'Gradient Boosting': {'n_estimators': [50, 100, 200], 'learning_rate': [0.01, 0.1, 0.5]},\n",
        "    'SVM': {'C': [0.1, 1, 10], 'kernel': ['linear']}\n",
        "}\n",
        "\n"
      ],
      "metadata": {
        "id": "HuwM5Ikzct6-"
      },
      "execution_count": 31,
      "outputs": []
    },
    {
      "cell_type": "code",
      "source": [
        "best_models = {}\n",
        "\n",
        "for name, model in models.items():\n",
        "    grid_search = GridSearchCV(model, param_grid[name], cv=5, scoring='accuracy')\n",
        "    grid_search.fit(X_train, Y_train)\n",
        "    best_models[name] = grid_search.best_estimator_\n"
      ],
      "metadata": {
        "id": "JaQxJLiSlSEz"
      },
      "execution_count": 32,
      "outputs": []
    },
    {
      "cell_type": "code",
      "source": [
        "# Evaluate models\n",
        "for name, model in best_models.items():\n",
        "    print(\"\\n\" + name)\n",
        "    # Training accuracy\n",
        "    train_pred = model.predict(X_train)\n",
        "    train_accuracy = accuracy_score(train_pred, Y_train)\n",
        "    print('Training Accuracy: {:.2f}%'.format(train_accuracy * 100))\n",
        "    # Test accuracy\n",
        "    test_pred = model.predict(X_test)\n",
        "    test_accuracy = accuracy_score(test_pred, Y_test)\n",
        "    print('Test Accuracy: {:.2f}%'.format(test_accuracy * 100))\n"
      ],
      "metadata": {
        "colab": {
          "base_uri": "https://localhost:8080/"
        },
        "id": "QFl6nTFZdCH0",
        "outputId": "82f194db-9647-41a5-cf5f-1aeb27f00999"
      },
      "execution_count": 33,
      "outputs": [
        {
          "output_type": "stream",
          "name": "stdout",
          "text": [
            "\n",
            "Logistic Regression\n",
            "Training Accuracy: 94.79%\n",
            "Test Accuracy: 91.88%\n",
            "\n",
            "Random Forest\n",
            "Training Accuracy: 97.84%\n",
            "Test Accuracy: 91.88%\n",
            "\n",
            "Gradient Boosting\n",
            "Training Accuracy: 99.87%\n",
            "Test Accuracy: 91.88%\n",
            "\n",
            "SVM\n",
            "Training Accuracy: 91.36%\n",
            "Test Accuracy: 89.85%\n"
          ]
        }
      ]
    },
    {
      "cell_type": "code",
      "source": [],
      "metadata": {
        "id": "S-mLrpVjc44S"
      },
      "execution_count": null,
      "outputs": []
    }
  ]
}